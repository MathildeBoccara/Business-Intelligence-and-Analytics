{
  "nbformat": 4,
  "nbformat_minor": 0,
  "metadata": {
    "colab": {
      "name": "Exercise2",
      "provenance": [],
      "collapsed_sections": [],
      "include_colab_link": true
    },
    "kernelspec": {
      "name": "python3",
      "display_name": "Python 3"
    }
  },
  "cells": [
    {
      "cell_type": "markdown",
      "metadata": {
        "id": "view-in-github",
        "colab_type": "text"
      },
      "source": [
        "<a href=\"https://colab.research.google.com/github/MathildeBoccara/Business-Intelligence-and-Analytics/blob/master/week4%20-%20Visualization/Exercise2.ipynb\" target=\"_parent\"><img src=\"https://colab.research.google.com/assets/colab-badge.svg\" alt=\"Open In Colab\"/></a>"
      ]
    },
    {
      "cell_type": "markdown",
      "metadata": {
        "id": "FnSwSz5vSOG3"
      },
      "source": [
        "# Week 5 - SQL (1/2) - Exercice\r\n",
        "First, we need to import the Python libraries we will need and do various setups."
      ]
    },
    {
      "cell_type": "code",
      "metadata": {
        "id": "uDu6vmfkQssS"
      },
      "source": [
        "import pandas as pd\r\n",
        "from sqlalchemy import create_engine\r\n",
        "db = create_engine('sqlite://', echo=False)\r\n",
        "csvfile = 'https://raw.githubusercontent.com/michalis0/Business-Intelligence-and-Analytics/master/data/artists%20(1).csv'\r\n",
        "df = pd.read_csv(csvfile)\r\n",
        "df.columns = map(str.lower, df.columns)\r\n",
        "table_name = 'artists'\r\n",
        "df.to_sql(table_name, con=db)"
      ],
      "execution_count": null,
      "outputs": []
    },
    {
      "cell_type": "markdown",
      "metadata": {
        "id": "jtWiN27bSfLq"
      },
      "source": [
        "Now, let's take a first look at the data we will be working with."
      ]
    },
    {
      "cell_type": "code",
      "metadata": {
        "id": "OLWhFgJ1SagD",
        "colab": {
          "base_uri": "https://localhost:8080/",
          "height": 598
        },
        "outputId": "63f7d434-269c-4650-d2bf-5bb7e2e5b731"
      },
      "source": [
        "query = \"\"\"\r\n",
        "select * from artists\r\n",
        "limit 5\r\n",
        "\"\"\"\r\n",
        "sql_df = pd.read_sql(query, con=db)\r\n",
        "sql_df"
      ],
      "execution_count": null,
      "outputs": [
        {
          "output_type": "execute_result",
          "data": {
            "text/html": [
              "<div>\n",
              "<style scoped>\n",
              "    .dataframe tbody tr th:only-of-type {\n",
              "        vertical-align: middle;\n",
              "    }\n",
              "\n",
              "    .dataframe tbody tr th {\n",
              "        vertical-align: top;\n",
              "    }\n",
              "\n",
              "    .dataframe thead th {\n",
              "        text-align: right;\n",
              "    }\n",
              "</style>\n",
              "<table border=\"1\" class=\"dataframe\">\n",
              "  <thead>\n",
              "    <tr style=\"text-align: right;\">\n",
              "      <th></th>\n",
              "      <th>index</th>\n",
              "      <th>id</th>\n",
              "      <th>name</th>\n",
              "      <th>years</th>\n",
              "      <th>genre</th>\n",
              "      <th>nationality</th>\n",
              "      <th>bio</th>\n",
              "      <th>wikipedia</th>\n",
              "      <th>paintings</th>\n",
              "    </tr>\n",
              "  </thead>\n",
              "  <tbody>\n",
              "    <tr>\n",
              "      <th>0</th>\n",
              "      <td>0</td>\n",
              "      <td>0</td>\n",
              "      <td>Amedeo Modigliani</td>\n",
              "      <td>1884 - 1920</td>\n",
              "      <td>Expressionism</td>\n",
              "      <td>Italian</td>\n",
              "      <td>Amedeo Clemente Modigliani (Italian pronunciat...</td>\n",
              "      <td>http://en.wikipedia.org/wiki/Amedeo_Modigliani</td>\n",
              "      <td>193</td>\n",
              "    </tr>\n",
              "    <tr>\n",
              "      <th>1</th>\n",
              "      <td>1</td>\n",
              "      <td>1</td>\n",
              "      <td>Vasiliy Kandinskiy</td>\n",
              "      <td>1866 - 1944</td>\n",
              "      <td>Expressionism,Abstractionism</td>\n",
              "      <td>Russian</td>\n",
              "      <td>Wassily Wassilyevich Kandinsky (Russian: Васи́...</td>\n",
              "      <td>http://en.wikipedia.org/wiki/Wassily_Kandinsky</td>\n",
              "      <td>88</td>\n",
              "    </tr>\n",
              "    <tr>\n",
              "      <th>2</th>\n",
              "      <td>2</td>\n",
              "      <td>2</td>\n",
              "      <td>Diego Rivera</td>\n",
              "      <td>1886 - 1957</td>\n",
              "      <td>Social Realism,Muralism</td>\n",
              "      <td>Mexican</td>\n",
              "      <td>Diego María de la Concepción Juan Nepomuceno E...</td>\n",
              "      <td>http://en.wikipedia.org/wiki/Diego_Rivera</td>\n",
              "      <td>70</td>\n",
              "    </tr>\n",
              "    <tr>\n",
              "      <th>3</th>\n",
              "      <td>3</td>\n",
              "      <td>3</td>\n",
              "      <td>Claude Monet</td>\n",
              "      <td>1840 - 1926</td>\n",
              "      <td>Impressionism</td>\n",
              "      <td>French</td>\n",
              "      <td>Oscar-Claude Monet (; French: [klod mɔnɛ]; 14 ...</td>\n",
              "      <td>http://en.wikipedia.org/wiki/Claude_Monet</td>\n",
              "      <td>73</td>\n",
              "    </tr>\n",
              "    <tr>\n",
              "      <th>4</th>\n",
              "      <td>4</td>\n",
              "      <td>4</td>\n",
              "      <td>Rene Magritte</td>\n",
              "      <td>1898 - 1967</td>\n",
              "      <td>Surrealism,Impressionism</td>\n",
              "      <td>Belgian</td>\n",
              "      <td>René François Ghislain Magritte (French: [ʁəne...</td>\n",
              "      <td>http://en.wikipedia.org/wiki/René_Magritte</td>\n",
              "      <td>194</td>\n",
              "    </tr>\n",
              "  </tbody>\n",
              "</table>\n",
              "</div>"
            ],
            "text/plain": [
              "   index  id  ...                                       wikipedia paintings\n",
              "0      0   0  ...  http://en.wikipedia.org/wiki/Amedeo_Modigliani       193\n",
              "1      1   1  ...  http://en.wikipedia.org/wiki/Wassily_Kandinsky        88\n",
              "2      2   2  ...       http://en.wikipedia.org/wiki/Diego_Rivera        70\n",
              "3      3   3  ...       http://en.wikipedia.org/wiki/Claude_Monet        73\n",
              "4      4   4  ...      http://en.wikipedia.org/wiki/René_Magritte       194\n",
              "\n",
              "[5 rows x 9 columns]"
            ]
          },
          "metadata": {
            "tags": []
          },
          "execution_count": 2
        }
      ]
    },
    {
      "cell_type": "markdown",
      "metadata": {
        "id": "1ypa25-JYgZy"
      },
      "source": [
        "Each row contains a painter. We can see that the dataset contains the following information:\n",
        "- **name**\n",
        "- **years**: date of birth - date of death\n",
        "- **genre**\n",
        "- **nationality**\n",
        "- **bio**\n",
        "- **wikipedia**\n",
        "- **paintings**: total number of paintings"
      ]
    },
    {
      "cell_type": "markdown",
      "metadata": {
        "id": "2wLut5taU0nY"
      },
      "source": [
        "### Questions\r\n",
        "1. Find the names of all French artists and order them by alphabetical order"
      ]
    },
    {
      "cell_type": "code",
      "metadata": {
        "colab": {
          "base_uri": "https://localhost:8080/",
          "height": 452
        },
        "id": "OceoaLBpkQUT",
        "outputId": "bc8cfe43-c39d-4587-bde5-5974ee98c249"
      },
      "source": [
        "query = \"\"\" \n",
        "select name\n",
        "from artists\n",
        "where artists.nationality like 'French'\n",
        "order by name asc \"\"\"\n",
        "sql_df = pd.read_sql(query, con=db)\n",
        "sql_df"
      ],
      "execution_count": null,
      "outputs": [
        {
          "output_type": "execute_result",
          "data": {
            "text/html": [
              "<div>\n",
              "<style scoped>\n",
              "    .dataframe tbody tr th:only-of-type {\n",
              "        vertical-align: middle;\n",
              "    }\n",
              "\n",
              "    .dataframe tbody tr th {\n",
              "        vertical-align: top;\n",
              "    }\n",
              "\n",
              "    .dataframe thead th {\n",
              "        text-align: right;\n",
              "    }\n",
              "</style>\n",
              "<table border=\"1\" class=\"dataframe\">\n",
              "  <thead>\n",
              "    <tr style=\"text-align: right;\">\n",
              "      <th></th>\n",
              "      <th>name</th>\n",
              "    </tr>\n",
              "  </thead>\n",
              "  <tbody>\n",
              "    <tr>\n",
              "      <th>0</th>\n",
              "      <td>Camille Pissarro</td>\n",
              "    </tr>\n",
              "    <tr>\n",
              "      <th>1</th>\n",
              "      <td>Claude Monet</td>\n",
              "    </tr>\n",
              "    <tr>\n",
              "      <th>2</th>\n",
              "      <td>Edgar Degas</td>\n",
              "    </tr>\n",
              "    <tr>\n",
              "      <th>3</th>\n",
              "      <td>Edouard Manet</td>\n",
              "    </tr>\n",
              "    <tr>\n",
              "      <th>4</th>\n",
              "      <td>Eugene Delacroix</td>\n",
              "    </tr>\n",
              "    <tr>\n",
              "      <th>5</th>\n",
              "      <td>Georges Seurat</td>\n",
              "    </tr>\n",
              "    <tr>\n",
              "      <th>6</th>\n",
              "      <td>Gustave Courbet</td>\n",
              "    </tr>\n",
              "    <tr>\n",
              "      <th>7</th>\n",
              "      <td>Henri Matisse</td>\n",
              "    </tr>\n",
              "    <tr>\n",
              "      <th>8</th>\n",
              "      <td>Henri Rousseau</td>\n",
              "    </tr>\n",
              "    <tr>\n",
              "      <th>9</th>\n",
              "      <td>Henri de Toulouse-Lautrec</td>\n",
              "    </tr>\n",
              "    <tr>\n",
              "      <th>10</th>\n",
              "      <td>Paul Cezanne</td>\n",
              "    </tr>\n",
              "    <tr>\n",
              "      <th>11</th>\n",
              "      <td>Paul Gauguin</td>\n",
              "    </tr>\n",
              "    <tr>\n",
              "      <th>12</th>\n",
              "      <td>Pierre-Auguste Renoir</td>\n",
              "    </tr>\n",
              "  </tbody>\n",
              "</table>\n",
              "</div>"
            ],
            "text/plain": [
              "                         name\n",
              "0            Camille Pissarro\n",
              "1                Claude Monet\n",
              "2                 Edgar Degas\n",
              "3               Edouard Manet\n",
              "4            Eugene Delacroix\n",
              "5              Georges Seurat\n",
              "6             Gustave Courbet\n",
              "7               Henri Matisse\n",
              "8              Henri Rousseau\n",
              "9   Henri de Toulouse-Lautrec\n",
              "10               Paul Cezanne\n",
              "11               Paul Gauguin\n",
              "12      Pierre-Auguste Renoir"
            ]
          },
          "metadata": {
            "tags": []
          },
          "execution_count": 3
        }
      ]
    },
    {
      "cell_type": "markdown",
      "metadata": {
        "id": "Vmncy2dokId3"
      },
      "source": [
        "2. Find the total number of Italian artists."
      ]
    },
    {
      "cell_type": "code",
      "metadata": {
        "id": "K3MeFGL0ngP5",
        "colab": {
          "base_uri": "https://localhost:8080/",
          "height": 80
        },
        "outputId": "39a5419e-4f8c-476a-b990-f715274f63d1"
      },
      "source": [
        "query = \"\"\" \n",
        "select count(id) \n",
        "from artists\n",
        "where artists.nationality like 'Italian' \"\"\"\n",
        "sql_df = pd.read_sql(query, con=db)\n",
        "sql_df.head()"
      ],
      "execution_count": null,
      "outputs": [
        {
          "output_type": "execute_result",
          "data": {
            "text/html": [
              "<div>\n",
              "<style scoped>\n",
              "    .dataframe tbody tr th:only-of-type {\n",
              "        vertical-align: middle;\n",
              "    }\n",
              "\n",
              "    .dataframe tbody tr th {\n",
              "        vertical-align: top;\n",
              "    }\n",
              "\n",
              "    .dataframe thead th {\n",
              "        text-align: right;\n",
              "    }\n",
              "</style>\n",
              "<table border=\"1\" class=\"dataframe\">\n",
              "  <thead>\n",
              "    <tr style=\"text-align: right;\">\n",
              "      <th></th>\n",
              "      <th>count(id)</th>\n",
              "    </tr>\n",
              "  </thead>\n",
              "  <tbody>\n",
              "    <tr>\n",
              "      <th>0</th>\n",
              "      <td>8</td>\n",
              "    </tr>\n",
              "  </tbody>\n",
              "</table>\n",
              "</div>"
            ],
            "text/plain": [
              "   count(id)\n",
              "0          8"
            ]
          },
          "metadata": {
            "tags": []
          },
          "execution_count": 4
        }
      ]
    },
    {
      "cell_type": "markdown",
      "metadata": {
        "id": "LSHfyjQbaaYX"
      },
      "source": [
        "3. Find the painter that was the most prolific."
      ]
    },
    {
      "cell_type": "code",
      "metadata": {
        "colab": {
          "base_uri": "https://localhost:8080/",
          "height": 80
        },
        "id": "20FjNGRnaZvU",
        "outputId": "3268f879-c3af-401d-d3a7-ddad3ba5a6fb"
      },
      "source": [
        "query = \"\"\" \n",
        "select name, max(paintings)\n",
        "from artists \"\"\"\n",
        "sql_df = pd.read_sql(query, con=db)\n",
        "sql_df.head()"
      ],
      "execution_count": null,
      "outputs": [
        {
          "output_type": "execute_result",
          "data": {
            "text/html": [
              "<div>\n",
              "<style scoped>\n",
              "    .dataframe tbody tr th:only-of-type {\n",
              "        vertical-align: middle;\n",
              "    }\n",
              "\n",
              "    .dataframe tbody tr th {\n",
              "        vertical-align: top;\n",
              "    }\n",
              "\n",
              "    .dataframe thead th {\n",
              "        text-align: right;\n",
              "    }\n",
              "</style>\n",
              "<table border=\"1\" class=\"dataframe\">\n",
              "  <thead>\n",
              "    <tr style=\"text-align: right;\">\n",
              "      <th></th>\n",
              "      <th>name</th>\n",
              "      <th>max(paintings)</th>\n",
              "    </tr>\n",
              "  </thead>\n",
              "  <tbody>\n",
              "    <tr>\n",
              "      <th>0</th>\n",
              "      <td>Vincent van Gogh</td>\n",
              "      <td>877</td>\n",
              "    </tr>\n",
              "  </tbody>\n",
              "</table>\n",
              "</div>"
            ],
            "text/plain": [
              "               name  max(paintings)\n",
              "0  Vincent van Gogh             877"
            ]
          },
          "metadata": {
            "tags": []
          },
          "execution_count": 5
        }
      ]
    },
    {
      "cell_type": "markdown",
      "metadata": {
        "id": "mHc2s--Qjs1o"
      },
      "source": [
        "4. Find the 5 genres that are the most represented. Display the genres and the respective number of artists representing them (as NumberOfRepresentants)"
      ]
    },
    {
      "cell_type": "code",
      "metadata": {
        "colab": {
          "base_uri": "https://localhost:8080/",
          "height": 204
        },
        "id": "0fp6u6U4kiNg",
        "outputId": "e534fac4-189b-47f2-9afd-bf3e0be4f49f"
      },
      "source": [
        "query = \"\"\" \n",
        "select distinct genre, count(name) as NumberOfRepresentants\n",
        "from artists \n",
        "group by genre\n",
        "order by count(name) desc\n",
        "limit 5\n",
        "\"\"\"\n",
        "sql_df = pd.read_sql(query, con=db)\n",
        "sql_df"
      ],
      "execution_count": null,
      "outputs": [
        {
          "output_type": "execute_result",
          "data": {
            "text/html": [
              "<div>\n",
              "<style scoped>\n",
              "    .dataframe tbody tr th:only-of-type {\n",
              "        vertical-align: middle;\n",
              "    }\n",
              "\n",
              "    .dataframe tbody tr th {\n",
              "        vertical-align: top;\n",
              "    }\n",
              "\n",
              "    .dataframe thead th {\n",
              "        text-align: right;\n",
              "    }\n",
              "</style>\n",
              "<table border=\"1\" class=\"dataframe\">\n",
              "  <thead>\n",
              "    <tr style=\"text-align: right;\">\n",
              "      <th></th>\n",
              "      <th>genre</th>\n",
              "      <th>NumberOfRepresentant</th>\n",
              "    </tr>\n",
              "  </thead>\n",
              "  <tbody>\n",
              "    <tr>\n",
              "      <th>0</th>\n",
              "      <td>Baroque</td>\n",
              "      <td>4</td>\n",
              "    </tr>\n",
              "    <tr>\n",
              "      <th>1</th>\n",
              "      <td>Impressionism</td>\n",
              "      <td>4</td>\n",
              "    </tr>\n",
              "    <tr>\n",
              "      <th>2</th>\n",
              "      <td>Northern Renaissance</td>\n",
              "      <td>4</td>\n",
              "    </tr>\n",
              "    <tr>\n",
              "      <th>3</th>\n",
              "      <td>Post-Impressionism</td>\n",
              "      <td>4</td>\n",
              "    </tr>\n",
              "    <tr>\n",
              "      <th>4</th>\n",
              "      <td>High Renaissance</td>\n",
              "      <td>3</td>\n",
              "    </tr>\n",
              "  </tbody>\n",
              "</table>\n",
              "</div>"
            ],
            "text/plain": [
              "                  genre  NumberOfRepresentant\n",
              "0               Baroque                     4\n",
              "1         Impressionism                     4\n",
              "2  Northern Renaissance                     4\n",
              "3    Post-Impressionism                     4\n",
              "4      High Renaissance                     3"
            ]
          },
          "metadata": {
            "tags": []
          },
          "execution_count": 6
        }
      ]
    },
    {
      "cell_type": "markdown",
      "metadata": {
        "id": "F-ucieLWaNX1"
      },
      "source": [
        "5. Find all the artists whose name start by a 'P' and have painted more than 200 paintings"
      ]
    },
    {
      "cell_type": "code",
      "metadata": {
        "colab": {
          "base_uri": "https://localhost:8080/",
          "height": 434
        },
        "id": "8nibn9X_o2Ng",
        "outputId": "8fc4ea4b-cdd7-44a8-938d-e5fff7fd2ea5"
      },
      "source": [
        "query = \"\"\" \n",
        "select *\n",
        "from artists\n",
        "where name like'P%'\n",
        "and paintings >= 200 \n",
        "\"\"\"\n",
        "sql_df = pd.read_sql(query, con=db)\n",
        "sql_df"
      ],
      "execution_count": null,
      "outputs": [
        {
          "output_type": "execute_result",
          "data": {
            "text/html": [
              "<div>\n",
              "<style scoped>\n",
              "    .dataframe tbody tr th:only-of-type {\n",
              "        vertical-align: middle;\n",
              "    }\n",
              "\n",
              "    .dataframe tbody tr th {\n",
              "        vertical-align: top;\n",
              "    }\n",
              "\n",
              "    .dataframe thead th {\n",
              "        text-align: right;\n",
              "    }\n",
              "</style>\n",
              "<table border=\"1\" class=\"dataframe\">\n",
              "  <thead>\n",
              "    <tr style=\"text-align: right;\">\n",
              "      <th></th>\n",
              "      <th>index</th>\n",
              "      <th>id</th>\n",
              "      <th>name</th>\n",
              "      <th>years</th>\n",
              "      <th>genre</th>\n",
              "      <th>nationality</th>\n",
              "      <th>bio</th>\n",
              "      <th>wikipedia</th>\n",
              "      <th>paintings</th>\n",
              "    </tr>\n",
              "  </thead>\n",
              "  <tbody>\n",
              "    <tr>\n",
              "      <th>0</th>\n",
              "      <td>13</td>\n",
              "      <td>13</td>\n",
              "      <td>Pablo Picasso</td>\n",
              "      <td>1881 - 1973</td>\n",
              "      <td>Cubism</td>\n",
              "      <td>Spanish</td>\n",
              "      <td>Pablo Ruiz Picasso (; Spanish: [ˈpaβlo piˈkaso...</td>\n",
              "      <td>http://en.wikipedia.org/wiki/Pablo_Picasso</td>\n",
              "      <td>439</td>\n",
              "    </tr>\n",
              "    <tr>\n",
              "      <th>1</th>\n",
              "      <td>15</td>\n",
              "      <td>15</td>\n",
              "      <td>Pierre-Auguste Renoir</td>\n",
              "      <td>1841 - 1919</td>\n",
              "      <td>Impressionism</td>\n",
              "      <td>French</td>\n",
              "      <td>Pierre-Auguste Renoir, commonly known as Augus...</td>\n",
              "      <td>http://en.wikipedia.org/wiki/Pierre-Auguste_Re...</td>\n",
              "      <td>336</td>\n",
              "    </tr>\n",
              "    <tr>\n",
              "      <th>2</th>\n",
              "      <td>46</td>\n",
              "      <td>46</td>\n",
              "      <td>Paul Gauguin</td>\n",
              "      <td>1848 – 1903</td>\n",
              "      <td>Symbolism,Post-Impressionism</td>\n",
              "      <td>French</td>\n",
              "      <td>Eugène Henri Paul Gauguin (UK: , US: ; French:...</td>\n",
              "      <td>http://en.wikipedia.org/wiki/Paul_Gauguin</td>\n",
              "      <td>311</td>\n",
              "    </tr>\n",
              "  </tbody>\n",
              "</table>\n",
              "</div>"
            ],
            "text/plain": [
              "   index  id  ...                                          wikipedia paintings\n",
              "0     13  13  ...         http://en.wikipedia.org/wiki/Pablo_Picasso       439\n",
              "1     15  15  ...  http://en.wikipedia.org/wiki/Pierre-Auguste_Re...       336\n",
              "2     46  46  ...          http://en.wikipedia.org/wiki/Paul_Gauguin       311\n",
              "\n",
              "[3 rows x 9 columns]"
            ]
          },
          "metadata": {
            "tags": []
          },
          "execution_count": 17
        }
      ]
    },
    {
      "cell_type": "markdown",
      "metadata": {
        "id": "rlYLjAMgp3B9"
      },
      "source": [
        "6. Find the genres where the Total number of paintings is greater or equal than 1000."
      ]
    },
    {
      "cell_type": "code",
      "metadata": {
        "colab": {
          "base_uri": "https://localhost:8080/",
          "height": 111
        },
        "id": "KkP5SHvBqAXz",
        "outputId": "441f6e6d-855c-4351-ef02-f5ac909d05b0"
      },
      "source": [
        "query = \"\"\" \n",
        "select distinct genre, sum(paintings) as TotalNumberOfPaintings\n",
        "from artists\n",
        "group by genre\n",
        "having sum(paintings)>=1000\n",
        "\"\"\"\n",
        "sql_df = pd.read_sql(query, con=db)\n",
        "sql_df"
      ],
      "execution_count": null,
      "outputs": [
        {
          "output_type": "execute_result",
          "data": {
            "text/html": [
              "<div>\n",
              "<style scoped>\n",
              "    .dataframe tbody tr th:only-of-type {\n",
              "        vertical-align: middle;\n",
              "    }\n",
              "\n",
              "    .dataframe tbody tr th {\n",
              "        vertical-align: top;\n",
              "    }\n",
              "\n",
              "    .dataframe thead th {\n",
              "        text-align: right;\n",
              "    }\n",
              "</style>\n",
              "<table border=\"1\" class=\"dataframe\">\n",
              "  <thead>\n",
              "    <tr style=\"text-align: right;\">\n",
              "      <th></th>\n",
              "      <th>genre</th>\n",
              "      <th>TotalNumberOfPaintings</th>\n",
              "    </tr>\n",
              "  </thead>\n",
              "  <tbody>\n",
              "    <tr>\n",
              "      <th>0</th>\n",
              "      <td>Impressionism</td>\n",
              "      <td>1370</td>\n",
              "    </tr>\n",
              "    <tr>\n",
              "      <th>1</th>\n",
              "      <td>Post-Impressionism</td>\n",
              "      <td>1048</td>\n",
              "    </tr>\n",
              "  </tbody>\n",
              "</table>\n",
              "</div>"
            ],
            "text/plain": [
              "                genre  TotalNumberOfPaintings\n",
              "0       Impressionism                    1370\n",
              "1  Post-Impressionism                    1048"
            ]
          },
          "metadata": {
            "tags": []
          },
          "execution_count": 21
        }
      ]
    },
    {
      "cell_type": "markdown",
      "metadata": {
        "id": "fmsGWjb7q00n"
      },
      "source": [
        "7. Find all the artists that where born after 1900. Display their names and their dates of birth and death."
      ]
    },
    {
      "cell_type": "code",
      "metadata": {
        "colab": {
          "base_uri": "https://localhost:8080/",
          "height": 173
        },
        "id": "TSIJKOn9q1GR",
        "outputId": "48a6fe2a-9bab-41c1-b02f-459b0c831ba6"
      },
      "source": [
        "query = \"\"\" \n",
        "select name, years\n",
        "from artists\n",
        "where years like '19%' \n",
        "\"\"\"\n",
        "sql_df = pd.read_sql(query, con=db)\n",
        "sql_df"
      ],
      "execution_count": null,
      "outputs": [
        {
          "output_type": "execute_result",
          "data": {
            "text/html": [
              "<div>\n",
              "<style scoped>\n",
              "    .dataframe tbody tr th:only-of-type {\n",
              "        vertical-align: middle;\n",
              "    }\n",
              "\n",
              "    .dataframe tbody tr th {\n",
              "        vertical-align: top;\n",
              "    }\n",
              "\n",
              "    .dataframe thead th {\n",
              "        text-align: right;\n",
              "    }\n",
              "</style>\n",
              "<table border=\"1\" class=\"dataframe\">\n",
              "  <thead>\n",
              "    <tr style=\"text-align: right;\">\n",
              "      <th></th>\n",
              "      <th>name</th>\n",
              "      <th>years</th>\n",
              "    </tr>\n",
              "  </thead>\n",
              "  <tbody>\n",
              "    <tr>\n",
              "      <th>0</th>\n",
              "      <td>Salvador Dali</td>\n",
              "      <td>1904 - 1989</td>\n",
              "    </tr>\n",
              "    <tr>\n",
              "      <th>1</th>\n",
              "      <td>Frida Kahlo</td>\n",
              "      <td>1907 - 1954</td>\n",
              "    </tr>\n",
              "    <tr>\n",
              "      <th>2</th>\n",
              "      <td>Andy Warhol</td>\n",
              "      <td>1928 – 1987</td>\n",
              "    </tr>\n",
              "    <tr>\n",
              "      <th>3</th>\n",
              "      <td>Jackson Pollock</td>\n",
              "      <td>1912 – 1956</td>\n",
              "    </tr>\n",
              "  </tbody>\n",
              "</table>\n",
              "</div>"
            ],
            "text/plain": [
              "              name        years\n",
              "0    Salvador Dali  1904 - 1989\n",
              "1      Frida Kahlo  1907 - 1954\n",
              "2      Andy Warhol  1928 – 1987\n",
              "3  Jackson Pollock  1912 – 1956"
            ]
          },
          "metadata": {
            "tags": []
          },
          "execution_count": 33
        }
      ]
    },
    {
      "cell_type": "markdown",
      "metadata": {
        "id": "mK16XQedsjCZ"
      },
      "source": [
        "8. Find all the artists that where born during the XVII century and are Spanish or Italian."
      ]
    },
    {
      "cell_type": "code",
      "metadata": {
        "colab": {
          "base_uri": "https://localhost:8080/",
          "height": 359
        },
        "id": "qu28hEDGsxTf",
        "outputId": "135b7a08-7e8b-4c49-fad5-1d017771e7dd"
      },
      "source": [
        "query = \"\"\" \n",
        "select name, nationality, years\n",
        "from artists\n",
        "where years like '18%'\n",
        "and nationality == 'Spanish'\n",
        "or nationality == 'Italian' \n",
        "order by nationality\n",
        "\"\"\"\n",
        "sql_df = pd.read_sql(query, con=db)\n",
        "sql_df"
      ],
      "execution_count": null,
      "outputs": [
        {
          "output_type": "execute_result",
          "data": {
            "text/html": [
              "<div>\n",
              "<style scoped>\n",
              "    .dataframe tbody tr th:only-of-type {\n",
              "        vertical-align: middle;\n",
              "    }\n",
              "\n",
              "    .dataframe tbody tr th {\n",
              "        vertical-align: top;\n",
              "    }\n",
              "\n",
              "    .dataframe thead th {\n",
              "        text-align: right;\n",
              "    }\n",
              "</style>\n",
              "<table border=\"1\" class=\"dataframe\">\n",
              "  <thead>\n",
              "    <tr style=\"text-align: right;\">\n",
              "      <th></th>\n",
              "      <th>name</th>\n",
              "      <th>nationality</th>\n",
              "      <th>years</th>\n",
              "    </tr>\n",
              "  </thead>\n",
              "  <tbody>\n",
              "    <tr>\n",
              "      <th>0</th>\n",
              "      <td>Amedeo Modigliani</td>\n",
              "      <td>Italian</td>\n",
              "      <td>1884 - 1920</td>\n",
              "    </tr>\n",
              "    <tr>\n",
              "      <th>1</th>\n",
              "      <td>Giotto di Bondone</td>\n",
              "      <td>Italian</td>\n",
              "      <td>1266 - 1337</td>\n",
              "    </tr>\n",
              "    <tr>\n",
              "      <th>2</th>\n",
              "      <td>Sandro Botticelli</td>\n",
              "      <td>Italian</td>\n",
              "      <td>1445 - 1510</td>\n",
              "    </tr>\n",
              "    <tr>\n",
              "      <th>3</th>\n",
              "      <td>Caravaggio</td>\n",
              "      <td>Italian</td>\n",
              "      <td>1571 - 1610</td>\n",
              "    </tr>\n",
              "    <tr>\n",
              "      <th>4</th>\n",
              "      <td>Leonardo da Vinci</td>\n",
              "      <td>Italian</td>\n",
              "      <td>1452 - 1519</td>\n",
              "    </tr>\n",
              "    <tr>\n",
              "      <th>5</th>\n",
              "      <td>Titian</td>\n",
              "      <td>Italian</td>\n",
              "      <td>1488 - 1576</td>\n",
              "    </tr>\n",
              "    <tr>\n",
              "      <th>6</th>\n",
              "      <td>Raphael</td>\n",
              "      <td>Italian</td>\n",
              "      <td>1483 – 1520</td>\n",
              "    </tr>\n",
              "    <tr>\n",
              "      <th>7</th>\n",
              "      <td>Michelangelo</td>\n",
              "      <td>Italian</td>\n",
              "      <td>1475 – 1564</td>\n",
              "    </tr>\n",
              "    <tr>\n",
              "      <th>8</th>\n",
              "      <td>Pablo Picasso</td>\n",
              "      <td>Spanish</td>\n",
              "      <td>1881 - 1973</td>\n",
              "    </tr>\n",
              "    <tr>\n",
              "      <th>9</th>\n",
              "      <td>Joan Miro</td>\n",
              "      <td>Spanish</td>\n",
              "      <td>1893 – 1983</td>\n",
              "    </tr>\n",
              "  </tbody>\n",
              "</table>\n",
              "</div>"
            ],
            "text/plain": [
              "                name nationality        years\n",
              "0  Amedeo Modigliani     Italian  1884 - 1920\n",
              "1  Giotto di Bondone     Italian  1266 - 1337\n",
              "2  Sandro Botticelli     Italian  1445 - 1510\n",
              "3         Caravaggio     Italian  1571 - 1610\n",
              "4  Leonardo da Vinci     Italian  1452 - 1519\n",
              "5             Titian     Italian  1488 - 1576\n",
              "6            Raphael     Italian  1483 – 1520\n",
              "7       Michelangelo     Italian  1475 – 1564\n",
              "8      Pablo Picasso     Spanish  1881 - 1973\n",
              "9          Joan Miro     Spanish  1893 – 1983"
            ]
          },
          "metadata": {
            "tags": []
          },
          "execution_count": 38
        }
      ]
    }
  ]
}